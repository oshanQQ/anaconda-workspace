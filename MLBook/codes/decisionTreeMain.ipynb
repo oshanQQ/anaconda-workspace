{
 "cells": [
  {
   "cell_type": "code",
   "execution_count": 1,
   "id": "0cf082f8-d2ae-4378-aa19-962d87ad4af4",
   "metadata": {},
   "outputs": [
    {
     "name": "stdout",
     "output_type": "stream",
     "text": [
      "\n",
      "発生形態x2 (0.64) = '卵生' (0.44)\n",
      "｜\n",
      "＋― 体温x3 (0.44) = '変温' (0.0) --> 爬虫類\n",
      "｜\n",
      "＋― 体温x3 (0.44) = '恒温' (0.0) --> 鳥類\n",
      "｜\n",
      "発生形態x2 (0.64) = '胎生' (0.0) --> 哺乳類\n"
     ]
    }
   ],
   "source": [
    "%run decisionTreeMain.py"
   ]
  },
  {
   "cell_type": "code",
   "execution_count": null,
   "id": "f0d8b1b9-e3bc-4ee6-82da-c5828cf9fa2e",
   "metadata": {},
   "outputs": [],
   "source": []
  }
 ],
 "metadata": {
  "kernelspec": {
   "display_name": "Python 3",
   "language": "python",
   "name": "python3"
  },
  "language_info": {
   "codemirror_mode": {
    "name": "ipython",
    "version": 3
   },
   "file_extension": ".py",
   "mimetype": "text/x-python",
   "name": "python",
   "nbconvert_exporter": "python",
   "pygments_lexer": "ipython3",
   "version": "3.8.8"
  }
 },
 "nbformat": 4,
 "nbformat_minor": 5
}
