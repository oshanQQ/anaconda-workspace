{
 "cells": [
  {
   "cell_type": "code",
   "execution_count": 3,
   "id": "4863a1a1-8763-4339-b51c-5d1b63057194",
   "metadata": {
    "tags": []
   },
   "outputs": [
    {
     "name": "stdout",
     "output_type": "stream",
     "text": [
      "=============== predicted ===============\n",
      "[0 0 0 0 0 0 0 0 0 0 0 0 0 0 0 0 0 0 0 0 0 0 0 0 0 0 0 0 0 0 0 0 0 0 0 0 0\n",
      " 0 0 0 0 0 0 0 0 0 0 0 0 0 1 1 1 1 1 1 1 1 1 1 1 1 1 1 1 1 1 1 1 1 2 1 1 1\n",
      " 1 1 1 2 1 1 1 1 1 2 1 1 1 1 1 1 1 1 1 1 1 1 1 1 1 1 2 2 2 2 2 2 1 2 2 2 2\n",
      " 2 2 2 2 2 2 2 2 2 2 2 2 2 2 2 2 2 2 2 2 2 2 2 2 2 2 2 2 2 2 2 2 2 2 2 2 2\n",
      " 2 2]\n",
      "============== correct_ans ==============\n",
      "[0 0 0 0 0 0 0 0 0 0 0 0 0 0 0 0 0 0 0 0 0 0 0 0 0 0 0 0 0 0 0 0 0 0 0 0 0\n",
      " 0 0 0 0 0 0 0 0 0 0 0 0 0 1 1 1 1 1 1 1 1 1 1 1 1 1 1 1 1 1 1 1 1 1 1 1 1\n",
      " 1 1 1 1 1 1 1 1 1 1 1 1 1 1 1 1 1 1 1 1 1 1 1 1 1 1 2 2 2 2 2 2 2 2 2 2 2\n",
      " 2 2 2 2 2 2 2 2 2 2 2 2 2 2 2 2 2 2 2 2 2 2 2 2 2 2 2 2 2 2 2 2 2 2 2 2 2\n",
      " 2 2]\n",
      "=============== id_rate =================\n",
      "0.9733333333333334\n"
     ]
    }
   ],
   "source": [
    "from sklearn.datasets import load_iris\n",
    "from sklearn import tree\n",
    "\n",
    "def main():\n",
    "  # アヤメのデータを読み込む\n",
    "  iris = load_iris()\n",
    "\n",
    "  # アヤメの素性(説明変数)はリスト\n",
    "  # 順にがく片の幅，がく片の長さ，花弁の幅，花弁の長さ\n",
    "  # print(iris.data)\n",
    "\n",
    "  # アヤメの種類(目的変数)は3種類(3値分類)\n",
    "  # print(iris.target)\n",
    "\n",
    "  '''\n",
    "    今回の内容と関係ありそうなパラメータ\n",
    "    criterion = 'gini' or 'entropy' (default: 'gini')                        # 分割する際にどちらを使うか\n",
    "    max_depth = INT_VAL or None (default: None)                              # 作成する決定木の最大深さ\n",
    "    min_samples_split = INT_VAL (default: 2)                                 # サンプルを分割する際の枝の数の最小値\n",
    "    min_samples_leaf = INT_VAL (default: 1)                                  # 1つのサンプルが属する葉の数の最小値\n",
    "    min_weight_fraction_leaf = FLOAT_VAL (default: 0.0)                      # 1つの葉に属する必要のあるサンプルの割合の最小値\n",
    "    max_leaf_nodes = INT_VAL or None (default: None)                         # 作成する葉の最大値(設定するとmax_depthが無視される)\n",
    "    class_weight = DICT, LIST_OF_DICTS, 'balanced', or None (default: None)  # 各説明変数に対する重み\n",
    "    presort = BOOL (default: False)                                          # 高速化のための入力データソートを行うか\n",
    "  '''\n",
    "  # モデルを作成\n",
    "  clf = tree.DecisionTreeClassifier(max_depth = 3)\n",
    "  clf = clf.fit(iris.data, iris.target)\n",
    "\n",
    "  # 作成したモデルを用いて予測を実行\n",
    "  predicted = clf.predict(iris.data)\n",
    "\n",
    "  # 予測結果の出力(正解データとの比較)\n",
    "  print('=============== predicted ===============')\n",
    "  print(predicted)\n",
    "  print('============== correct_ans ==============')\n",
    "  print(iris.target)\n",
    "  print('=============== id_rate =================')\n",
    "  print(sum(predicted == iris.target) / len(iris.target))\n",
    "    \n",
    "main()"
   ]
  },
  {
   "cell_type": "code",
   "execution_count": null,
   "id": "1d6b2149-9f4d-444f-a639-133c96438eb1",
   "metadata": {},
   "outputs": [],
   "source": []
  }
 ],
 "metadata": {
  "kernelspec": {
   "display_name": "Python 3",
   "language": "python",
   "name": "python3"
  },
  "language_info": {
   "codemirror_mode": {
    "name": "ipython",
    "version": 3
   },
   "file_extension": ".py",
   "mimetype": "text/x-python",
   "name": "python",
   "nbconvert_exporter": "python",
   "pygments_lexer": "ipython3",
   "version": "3.8.8"
  }
 },
 "nbformat": 4,
 "nbformat_minor": 5
}
