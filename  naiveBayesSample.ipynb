{
 "cells": [
  {
   "cell_type": "markdown",
   "id": "42a506c8-90f6-4f99-9a37-4c05de33e557",
   "metadata": {},
   "source": [
    "# ナイーブベイズのサンプルコード"
   ]
  },
  {
   "cell_type": "code",
<<<<<<< HEAD
   "execution_count": 8,
=======
   "execution_count": 7,
>>>>>>> fb71e47fe88d84bc6fbede796f14ca663082faa3
   "id": "1ccbd1ca-27f4-403d-b7f3-502aa770aff8",
   "metadata": {},
   "outputs": [
    {
     "name": "stdout",
     "output_type": "stream",
     "text": [
      "========= predict =========\n"
     ]
    },
    {
     "data": {
      "text/plain": [
       "array([3])"
      ]
     },
<<<<<<< HEAD
     "execution_count": 8,
=======
     "execution_count": 7,
>>>>>>> fb71e47fe88d84bc6fbede796f14ca663082faa3
     "metadata": {},
     "output_type": "execute_result"
    }
   ],
   "source": [
    "import numpy as np\n",
    "from sklearn.naive_bayes import GaussianNB # ガウシアン\n",
<<<<<<< HEAD
    "\n",
=======
>>>>>>> fb71e47fe88d84bc6fbede796f14ca663082faa3
    "X = np.array([[1,2,3,4,5,6,7,8],\n",
    "              [1,1,3,4,5,6,6,7],\n",
    "              [2,1,2,4,5,8,8,8]]) # 特徴ベクトル\n",
    "y = np.array([1, 2, 3]) # そのラベル\n",
    "t = np.array([[2,2,4,5,6,8,8,8]]) # テストデータ\n",
    "\n",
    "clf = GaussianNB() # 正規分布を仮定したベイズ分類\n",
    "clf.fit(X, y) # 学習をする\n",
    "print(\"========= predict =========\")\n",
    "clf.predict(t) # => [3]"
   ]
  }
 ],
 "metadata": {
  "kernelspec": {
   "display_name": "Python 3",
   "language": "python",
   "name": "python3"
  },
  "language_info": {
   "codemirror_mode": {
    "name": "ipython",
    "version": 3
   },
   "file_extension": ".py",
   "mimetype": "text/x-python",
   "name": "python",
   "nbconvert_exporter": "python",
   "pygments_lexer": "ipython3",
   "version": "3.8.8"
  }
 },
 "nbformat": 4,
 "nbformat_minor": 5
}
