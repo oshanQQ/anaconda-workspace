{
 "cells": [
  {
   "cell_type": "markdown",
   "id": "8584e8b3-a537-48d6-9c90-8a4675e182c2",
   "metadata": {},
   "source": [
    "# 決定木を用いたどんぐり予測"
   ]
  },
  {
   "cell_type": "code",
   "execution_count": 100,
   "id": "ec1e411b-5145-49d2-8ed9-4fb1dfcc653f",
   "metadata": {},
   "outputs": [
    {
     "name": "stdout",
     "output_type": "stream",
     "text": [
      "===== maybe 1 =====\n",
      "[1 1 1 1 1 1 1 2 1 1 1 1 1 1 1 2 1 1 1 1]\n",
      "===== maybe 2 =====\n",
      "[2 2 2 2 2 2 2 2 2 2 2 2 2 2 2 2 2 2 2 2]\n"
     ]
    }
   ],
   "source": [
    "import pandas\n",
    "import numpy\n",
    "from sklearn import tree\n",
    "\n",
    "data_file = pandas.read_csv('./DonguriData.csv')\n",
    "\n",
    "X1 = data_file[[\"tateL1\", \"yokoL1\"]].values\n",
    "y1 = [1] * len(X1)\n",
    "X2 = data_file[[\"tateL2\", \"yokoL2\"]].values\n",
    "y2 = [2] * len(X2)\n",
    "\n",
    "X = numpy.concatenate([X1, X2])\n",
    "y = y1 + y2\n",
    "\n",
    "# clf = tree.DecisionTreeClassifier(max_depth = 3)\n",
    "clf = clf.fit(X, y)\n",
    "\n",
    "expected_1 = data_file[[\"tateT1\", \"yokoT1\"]].values\n",
    "expected_2 = data_file[[\"tateL2\", \"yokoL2\"]].values\n",
    "predicted_1 = clf.predict(expected_1)\n",
    "predicted_2 = clf.predict(expected_2)\n",
    "\n",
    "print(\"===== maybe 1 =====\")\n",
    "print(predicted_1)\n",
    "print(\"===== maybe 2 =====\")\n",
    "print(predicted_2)"
   ]
  }
 ],
 "metadata": {
  "kernelspec": {
   "display_name": "Python 3",
   "language": "python",
   "name": "python3"
  },
  "language_info": {
   "codemirror_mode": {
    "name": "ipython",
    "version": 3
   },
   "file_extension": ".py",
   "mimetype": "text/x-python",
   "name": "python",
   "nbconvert_exporter": "python",
   "pygments_lexer": "ipython3",
   "version": "3.8.8"
  }
 },
 "nbformat": 4,
 "nbformat_minor": 5
}
