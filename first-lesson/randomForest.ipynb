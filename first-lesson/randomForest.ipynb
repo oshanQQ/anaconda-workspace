{
 "cells": [
  {
   "cell_type": "code",
   "execution_count": 36,
   "id": "919c8add-666c-49f2-9673-cb85cedb4efa",
   "metadata": {},
   "outputs": [
    {
     "name": "stdout",
     "output_type": "stream",
     "text": [
      "TrainAccuracy: 1.0\n",
      "Accuracy: 0.9814814814814815\n"
     ]
    }
   ],
   "source": [
    "import pandas as pd # データ解析\n",
    "import numpy as np # 数値計算\n",
    "import matplotlib as mpl # numpyのためのグラフ描画\n",
    "import matplotlib.pyplot as plt # 暗黙的かつ自動的に図形や軸を作成する\n",
    "# Jupyte Notebookでmatplotlibの読み込み\n",
    "%matplotlib inline\n",
    "import seaborn as sns # データ可視化\n",
    "\n",
    "# sklearn: Pythonの機械学習ライブラリ\n",
    "from sklearn.model_selection import train_test_split # データを訓練用（学習用）とテスト用に分割\n",
    "from sklearn.metrics import accuracy_score # 精度分類スコア\n",
    "from sklearn.metrics import precision_score # 精度を計算\n",
    "from sklearn.ensemble import RandomForestClassifier # ランダムフォレスト\n",
    "from sklearn.metrics import confusion_matrix # 混同行列\n",
    "from pandas.plotting import scatter_matrix # 散布図行列\n",
    "\n",
    "# ワインのデータ\n",
    "df = pd.read_csv('https://archive.ics.uci.edu/ml/machine-learning-databases/wine/wine.data', header=None)\n",
    "\n",
    "# 機械学習のモデルを作成するトレーニング用と評価用の2種類に分割する\n",
    "train_x = df.drop([0], axis=1) # 説明変数のみにする\n",
    "train_y = df[0] # 正解クラス\n",
    "(train_x, test_x ,train_y, test_y) = train_test_split(train_x, train_y, test_size = 0.3, random_state = 42)\n",
    "#訓練用の説明変数と正解クラス、評価用の説明変数と正解クラスに分割 \n",
    "\n",
    "\n",
    "# 識別モデルの構築\n",
    "random_forest = RandomForestClassifier(max_depth=30, n_estimators=30, random_state=42)\n",
    "random_forest.fit(train_x, train_y)\n",
    "\n",
    "# 予測値算出\n",
    "y_pred = random_forest.predict(test_x)\n",
    "\n",
    "#モデルを作成する段階でのモデルの識別精度\n",
    "trainaccuracy_random_forest = random_forest.score(train_x, train_y)\n",
    "print('TrainAccuracy: {}'.format(trainaccuracy_random_forest))\n",
    "\n",
    "#作成したモデルに学習に使用していない評価用のデータセットを入力し精度を確認\n",
    "accuracy_random_forest = accuracy_score(test_y, y_pred)\n",
    "print('Accuracy: {}'.format(accuracy_random_forest))"
   ]
  },
  {
   "cell_type": "code",
   "execution_count": null,
   "id": "b9db1618-5746-4aa7-999c-38babe2761c8",
   "metadata": {},
   "outputs": [],
   "source": []
  }
 ],
 "metadata": {
  "kernelspec": {
   "display_name": "Python 3",
   "language": "python",
   "name": "python3"
  },
  "language_info": {
   "codemirror_mode": {
    "name": "ipython",
    "version": 3
   },
   "file_extension": ".py",
   "mimetype": "text/x-python",
   "name": "python",
   "nbconvert_exporter": "python",
   "pygments_lexer": "ipython3",
   "version": "3.8.8"
  }
 },
 "nbformat": 4,
 "nbformat_minor": 5
}
