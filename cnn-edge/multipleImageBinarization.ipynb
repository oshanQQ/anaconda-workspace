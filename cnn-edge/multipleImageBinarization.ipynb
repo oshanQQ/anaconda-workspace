{
 "cells": [
  {
   "cell_type": "code",
   "execution_count": 1,
   "id": "ef50f209-e9f4-4c49-8ffc-695a2dd9a2b5",
   "metadata": {},
   "outputs": [
    {
     "data": {
      "text/plain": [
       "(300, 544, 384, 3)"
      ]
     },
     "execution_count": 1,
     "metadata": {},
     "output_type": "execute_result"
    }
   ],
   "source": [
    "import glob\n",
    "import numpy as np\n",
    "from keras.preprocessing.image import load_img, img_to_array\n",
    "\n",
    "# original_image内のファイルのパスををすべて取得する。\n",
    "files = glob.glob('original_image/*.jpg')\n",
    "\n",
    "# imgs内に元のデータを入れる\n",
    "# file path => Python Imaging Library => ndarray\n",
    "imgs = np.array([img_to_array(load_img(f, target_size=(544, 384))) for f in files])\n",
    "\n",
    "# imgs内にいくつファイルが入っているか\n",
    "imgs.shape"
   ]
  },
  {
   "cell_type": "code",
   "execution_count": 2,
   "id": "257b85b4-7278-40e7-8c72-639565a4a6ca",
   "metadata": {},
   "outputs": [
    {
     "data": {
      "text/plain": [
       "(300, 544, 384, 1)"
      ]
     },
     "execution_count": 2,
     "metadata": {},
     "output_type": "execute_result"
    }
   ],
   "source": [
    "import os\n",
    "\n",
    "th = 128\n",
    "\n",
    "lavel_files = glob.glob('lavel_image/*.png')\n",
    "\n",
    "# labels内にラベルデータを入れる\n",
    "# file path => Python Imaging Library => ndarray\n",
    "labels = np.array([img_to_array(load_img(f, target_size=(544, 384), color_mode = 'grayscale')) for f in lavel_files])\n",
    "\n",
    "labels[labels < th] = 0\n",
    "labels[labels > th] = 1\n",
    "\n",
    "labels.shape"
   ]
  },
  {
   "cell_type": "code",
   "execution_count": 3,
   "id": "36a45cc5-d2f4-4768-9ce6-d09dcd758d39",
   "metadata": {},
   "outputs": [
    {
     "name": "stdout",
     "output_type": "stream",
     "text": [
      "Model: \"model\"\n",
      "_________________________________________________________________\n",
      " Layer (type)                Output Shape              Param #   \n",
      "=================================================================\n",
      " input_1 (InputLayer)        [(None, 544, 384, 3)]     0         \n",
      "                                                                 \n",
      " batch_normalization (BatchN  (None, 544, 384, 3)      12        \n",
      " ormalization)                                                   \n",
      "                                                                 \n",
      " conv2d (Conv2D)             (None, 544, 384, 16)      448       \n",
      "                                                                 \n",
      " max_pooling2d (MaxPooling2D  (None, 272, 192, 16)     0         \n",
      " )                                                               \n",
      "                                                                 \n",
      " batch_normalization_1 (Batc  (None, 272, 192, 16)     64        \n",
      " hNormalization)                                                 \n",
      "                                                                 \n",
      " dropout (Dropout)           (None, 272, 192, 16)      0         \n",
      "                                                                 \n",
      " conv2d_1 (Conv2D)           (None, 272, 192, 32)      4640      \n",
      "                                                                 \n",
      " conv2d_2 (Conv2D)           (None, 272, 192, 32)      9248      \n",
      "                                                                 \n",
      " conv2d_3 (Conv2D)           (None, 272, 192, 32)      9248      \n",
      "                                                                 \n",
      " max_pooling2d_1 (MaxPooling  (None, 136, 96, 32)      0         \n",
      " 2D)                                                             \n",
      "                                                                 \n",
      " batch_normalization_2 (Batc  (None, 136, 96, 32)      128       \n",
      " hNormalization)                                                 \n",
      "                                                                 \n",
      " dropout_1 (Dropout)         (None, 136, 96, 32)       0         \n",
      "                                                                 \n",
      " conv2d_4 (Conv2D)           (None, 136, 96, 64)       18496     \n",
      "                                                                 \n",
      " conv2d_5 (Conv2D)           (None, 136, 96, 64)       36928     \n",
      "                                                                 \n",
      " conv2d_6 (Conv2D)           (None, 136, 96, 64)       36928     \n",
      "                                                                 \n",
      " max_pooling2d_2 (MaxPooling  (None, 68, 48, 64)       0         \n",
      " 2D)                                                             \n",
      "                                                                 \n",
      " batch_normalization_3 (Batc  (None, 68, 48, 64)       256       \n",
      " hNormalization)                                                 \n",
      "                                                                 \n",
      " dropout_2 (Dropout)         (None, 68, 48, 64)        0         \n",
      "                                                                 \n",
      " conv2d_7 (Conv2D)           (None, 68, 48, 128)       73856     \n",
      "                                                                 \n",
      " conv2d_8 (Conv2D)           (None, 68, 48, 128)       147584    \n",
      "                                                                 \n",
      " batch_normalization_4 (Batc  (None, 68, 48, 128)      512       \n",
      " hNormalization)                                                 \n",
      "                                                                 \n",
      " dropout_3 (Dropout)         (None, 68, 48, 128)       0         \n",
      "                                                                 \n",
      " conv2d_transpose (Conv2DTra  (None, 136, 96, 64)      73792     \n",
      " nspose)                                                         \n",
      "                                                                 \n",
      " conv2d_9 (Conv2D)           (None, 136, 96, 64)       36928     \n",
      "                                                                 \n",
      " conv2d_10 (Conv2D)          (None, 136, 96, 64)       36928     \n",
      "                                                                 \n",
      " conv2d_11 (Conv2D)          (None, 136, 96, 64)       36928     \n",
      "                                                                 \n",
      " batch_normalization_5 (Batc  (None, 136, 96, 64)      256       \n",
      " hNormalization)                                                 \n",
      "                                                                 \n",
      " dropout_4 (Dropout)         (None, 136, 96, 64)       0         \n",
      "                                                                 \n",
      " conv2d_transpose_1 (Conv2DT  (None, 272, 192, 32)     18464     \n",
      " ranspose)                                                       \n",
      "                                                                 \n",
      " conv2d_12 (Conv2D)          (None, 272, 192, 32)      9248      \n",
      "                                                                 \n",
      " conv2d_13 (Conv2D)          (None, 272, 192, 32)      9248      \n",
      "                                                                 \n",
      " conv2d_14 (Conv2D)          (None, 272, 192, 32)      9248      \n",
      "                                                                 \n",
      " batch_normalization_6 (Batc  (None, 272, 192, 32)     128       \n",
      " hNormalization)                                                 \n",
      "                                                                 \n",
      " dropout_5 (Dropout)         (None, 272, 192, 32)      0         \n",
      "                                                                 \n",
      " conv2d_transpose_2 (Conv2DT  (None, 544, 384, 16)     4624      \n",
      " ranspose)                                                       \n",
      "                                                                 \n",
      " conv2d_15 (Conv2D)          (None, 544, 384, 16)      2320      \n",
      "                                                                 \n",
      " batch_normalization_7 (Batc  (None, 544, 384, 16)     64        \n",
      " hNormalization)                                                 \n",
      "                                                                 \n",
      " dropout_6 (Dropout)         (None, 544, 384, 16)      0         \n",
      "                                                                 \n",
      " conv2d_16 (Conv2D)          (None, 544, 384, 1)       17        \n",
      "                                                                 \n",
      "=================================================================\n",
      "Total params: 576,541\n",
      "Trainable params: 575,831\n",
      "Non-trainable params: 710\n",
      "_________________________________________________________________\n"
     ]
    }
   ],
   "source": [
    "from keras.models import Model\n",
    "from keras.layers import Input, Dropout\n",
    "from keras.layers.convolutional import Conv2D, Conv2DTranspose\n",
    "from keras.layers.pooling import MaxPool2D\n",
    "from tensorflow.keras.layers import BatchNormalization\n",
    "\n",
    "input = Input(shape = imgs.shape[1:])\n",
    "\n",
    "x = input\n",
    "\n",
    "x = BatchNormalization()(x)\n",
    "\n",
    "# Encoder\n",
    "\n",
    "x = Conv2D(16, 3, padding='same', activation = 'relu')(x)\n",
    "x = MaxPool2D()(x)\n",
    "\n",
    "x = BatchNormalization()(x)\n",
    "x = Dropout(0.3)(x)\n",
    "\n",
    "x = Conv2D(32, 3, padding='same', activation = 'relu')(x)\n",
    "x = Conv2D(32, 3, padding='same', activation = 'relu')(x)\n",
    "x = Conv2D(32, 3, padding='same', activation = 'relu')(x)\n",
    "x = MaxPool2D()(x)\n",
    "\n",
    "x = BatchNormalization()(x)\n",
    "x = Dropout(0.3)(x)\n",
    "\n",
    "x = Conv2D(64, 3, padding='same', activation = 'relu')(x)\n",
    "x = Conv2D(64, 3, padding='same', activation = 'relu')(x)\n",
    "x = Conv2D(64, 3, padding='same', activation = 'relu')(x)\n",
    "x = MaxPool2D()(x)\n",
    "\n",
    "x = BatchNormalization()(x)\n",
    "x = Dropout(0.3)(x)\n",
    "\n",
    "x = Conv2D(128, 3, padding='same', activation = 'relu')(x)\n",
    "x = Conv2D(128, 3, padding='same', activation = 'relu')(x)\n",
    "\n",
    "x = BatchNormalization()(x)\n",
    "x = Dropout(0.3)(x)\n",
    "\n",
    "# Decoder\n",
    "\n",
    "x = Conv2DTranspose(64, 3, strides = 2, padding='same', activation = 'relu')(x)\n",
    "x = Conv2D(64, 3, padding='same', activation = 'relu')(x)\n",
    "x = Conv2D(64, 3, padding='same', activation = 'relu')(x)\n",
    "x = Conv2D(64, 3, padding='same', activation = 'relu')(x)\n",
    "\n",
    "x = BatchNormalization()(x)\n",
    "x = Dropout(0.3)(x)\n",
    "\n",
    "x = Conv2DTranspose(32, 3, strides = 2, padding='same', activation = 'relu')(x)\n",
    "x = Conv2D(32, 3, padding='same', activation = 'relu')(x)\n",
    "x = Conv2D(32, 3, padding='same', activation = 'relu')(x)\n",
    "x = Conv2D(32, 3, padding='same', activation = 'relu')(x)\n",
    "\n",
    "x = BatchNormalization()(x)\n",
    "x = Dropout(0.3)(x)\n",
    "\n",
    "x = Conv2DTranspose(16, 3, strides = 2, padding='same', activation = 'relu')(x)\n",
    "x = Conv2D(16, 3, padding='same', activation = 'relu')(x)\n",
    "\n",
    "x = BatchNormalization()(x)\n",
    "x = Dropout(0.3)(x)\n",
    "\n",
    "output = Conv2D(1, 1, activation = 'sigmoid')(x)\n",
    "\n",
    "model = Model(inputs = input, outputs = output)\n",
    "\n",
    "model.compile(loss = 'mse', optimizer = 'adam', metrics = ['mae'])\n",
    "\n",
    "model.summary()"
   ]
  },
  {
   "cell_type": "code",
   "execution_count": 4,
   "id": "e8cccc0d-58ca-4c14-8793-1401d6dca7c3",
   "metadata": {},
   "outputs": [
    {
     "name": "stdout",
     "output_type": "stream",
     "text": [
      "Epoch 441/445\n",
      "300/300 [==============================] - 219s 726ms/step - loss: 21.1601 - mae: 0.4843\n",
      "Epoch 442/445\n",
      "300/300 [==============================] - 212s 708ms/step - loss: 21.1289 - mae: 0.3942\n",
      "Epoch 443/445\n",
      "300/300 [==============================] - 201s 669ms/step - loss: 21.1205 - mae: 0.3583\n",
      "Epoch 444/445\n",
      "300/300 [==============================] - 199s 665ms/step - loss: 21.1182 - mae: 0.3506\n",
      "Epoch 445/445\n",
      "300/300 [==============================] - 202s 673ms/step - loss: 21.1181 - mae: 0.3439\n"
     ]
    }
   ],
   "source": [
    "hist = model.fit(imgs, labels, initial_epoch = 440, epochs = 445, batch_size = 1)"
   ]
  },
  {
   "cell_type": "code",
   "execution_count": 12,
   "id": "f36fd306-da27-4b2f-8106-14bb469d6287",
   "metadata": {},
   "outputs": [
    {
     "data": {
      "image/png": "[encoded data removed]",
      "text/plain": [
       "<Figure size 432x432 with 3 Axes>"
      ]
     },
     "metadata": {
      "needs_background": "light"
     },
     "output_type": "display_data"
    }
   ],
   "source": [
    "%matplotlib inline\n",
    "import matplotlib.pyplot as plt\n",
    "\n",
    "def predict(index, s = 6.0):\n",
    "    plt.rcParams['figure.figsize'] = (s, s)\n",
    "\n",
    "    sh = imgs.shape[1:-1]\n",
    "\n",
    "    # 輪郭の検出（予測処理）\n",
    "    pred = model.predict(np.array([imgs[index]]))[0]\n",
    "    pred *= 255\n",
    "\n",
    "    plt.subplot(1, 3, 1)\n",
    "    # 入力画像の表示\n",
    "    plt.imshow(imgs[index].astype(int))\n",
    "\n",
    "    plt.subplot(1, 3, 2)\n",
    "    # 輪郭画像（ラベルデータ）の表示\n",
    "    plt.imshow(labels[index], cmap = 'gray')\n",
    "\n",
    "    plt.subplot(1, 3, 3)\n",
    "    # predict の結果表示\n",
    "    plt.imshow(pred, cmap = 'gray')\n",
    "\n",
    "predict(3)\n",
    "model.save('model/c1_480.h5')"
   ]
  }
 ],
 "metadata": {
  "kernelspec": {
   "display_name": "Python 3",
   "language": "python",
   "name": "python3"
  },
  "language_info": {
   "codemirror_mode": {
    "name": "ipython",
    "version": 3
   },
   "file_extension": ".py",
   "mimetype": "text/x-python",
   "name": "python",
   "nbconvert_exporter": "python",
   "pygments_lexer": "ipython3",
   "version": "3.8.8"
  }
 },
 "nbformat": 4,
 "nbformat_minor": 5
}
