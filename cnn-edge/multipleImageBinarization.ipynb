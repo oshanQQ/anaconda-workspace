{
 "cells": [
  {
   "cell_type": "code",
   "execution_count": 1,
   "id": "ef50f209-e9f4-4c49-8ffc-695a2dd9a2b5",
   "metadata": {},
   "outputs": [
    {
     "data": {
      "text/plain": [
       "(50, 480, 480, 3)"
      ]
     },
     "execution_count": 1,
     "metadata": {},
     "output_type": "execute_result"
    }
   ],
   "source": [
    "import glob\n",
    "import numpy as np\n",
    "from keras.preprocessing.image import load_img, img_to_array\n",
    "\n",
    "# original_image内のファイルのパスををすべて取得する。\n",
    "files = glob.glob('./original_image_pre/*.jpg')\n",
    "\n",
    "# imgs内に元のデータを入れる\n",
    "# file path => Python Imaging Library => ndarray\n",
    "imgs = np.array([img_to_array(load_img(f)) for f in files])\n",
    "\n",
    "# imgs内にいくつファイルが入っているか\n",
    "imgs.shape"
   ]
  },
  {
   "cell_type": "code",
   "execution_count": 2,
   "id": "257b85b4-7278-40e7-8c72-639565a4a6ca",
   "metadata": {},
   "outputs": [
    {
     "data": {
      "text/plain": [
       "(50, 480, 480, 1)"
      ]
     },
     "execution_count": 2,
     "metadata": {},
     "output_type": "execute_result"
    }
   ],
   "source": [
    "import os\n",
    "\n",
    "th = 128\n",
    "\n",
    "lavel_files = glob.glob('./lavel_image_pre/*.jpg')\n",
    "\n",
    "# labels内にラベルデータを入れる\n",
    "# file path => Python Imaging Library => ndarray\n",
    "labels = np.array([img_to_array(load_img(f, color_mode = 'grayscale')) for f in lavel_files])\n",
    "\n",
    "labels[labels < th] = 0\n",
    "labels[labels > th] = 1\n",
    "\n",
    "labels.shape"
   ]
  },
  {
   "cell_type": "code",
   "execution_count": 6,
   "id": "36a45cc5-d2f4-4768-9ce6-d09dcd758d39",
   "metadata": {},
   "outputs": [
    {
     "name": "stdout",
     "output_type": "stream",
     "text": [
      "Model: \"model_1\"\n",
      "_________________________________________________________________\n",
      " Layer (type)                Output Shape              Param #   \n",
      "=================================================================\n",
      " input_2 (InputLayer)        [(None, 480, 480, 3)]     0         \n",
      "                                                                 \n",
      " batch_normalization_8 (Batc  (None, 480, 480, 3)      12        \n",
      " hNormalization)                                                 \n",
      "                                                                 \n",
      " conv2d_17 (Conv2D)          (None, 480, 480, 16)      448       \n",
      "                                                                 \n",
      " max_pooling2d_3 (MaxPooling  (None, 240, 240, 16)     0         \n",
      " 2D)                                                             \n",
      "                                                                 \n",
      " batch_normalization_9 (Batc  (None, 240, 240, 16)     64        \n",
      " hNormalization)                                                 \n",
      "                                                                 \n",
      " dropout_7 (Dropout)         (None, 240, 240, 16)      0         \n",
      "                                                                 \n",
      " conv2d_18 (Conv2D)          (None, 240, 240, 32)      4640      \n",
      "                                                                 \n",
      " conv2d_19 (Conv2D)          (None, 240, 240, 32)      9248      \n",
      "                                                                 \n",
      " conv2d_20 (Conv2D)          (None, 240, 240, 32)      9248      \n",
      "                                                                 \n",
      " max_pooling2d_4 (MaxPooling  (None, 120, 120, 32)     0         \n",
      " 2D)                                                             \n",
      "                                                                 \n",
      " batch_normalization_10 (Bat  (None, 120, 120, 32)     128       \n",
      " chNormalization)                                                \n",
      "                                                                 \n",
      " dropout_8 (Dropout)         (None, 120, 120, 32)      0         \n",
      "                                                                 \n",
      " conv2d_21 (Conv2D)          (None, 120, 120, 64)      18496     \n",
      "                                                                 \n",
      " conv2d_22 (Conv2D)          (None, 120, 120, 64)      36928     \n",
      "                                                                 \n",
      " conv2d_23 (Conv2D)          (None, 120, 120, 64)      36928     \n",
      "                                                                 \n",
      " max_pooling2d_5 (MaxPooling  (None, 60, 60, 64)       0         \n",
      " 2D)                                                             \n",
      "                                                                 \n",
      " batch_normalization_11 (Bat  (None, 60, 60, 64)       256       \n",
      " chNormalization)                                                \n",
      "                                                                 \n",
      " dropout_9 (Dropout)         (None, 60, 60, 64)        0         \n",
      "                                                                 \n",
      " conv2d_24 (Conv2D)          (None, 60, 60, 128)       73856     \n",
      "                                                                 \n",
      " conv2d_25 (Conv2D)          (None, 60, 60, 128)       147584    \n",
      "                                                                 \n",
      " batch_normalization_12 (Bat  (None, 60, 60, 128)      512       \n",
      " chNormalization)                                                \n",
      "                                                                 \n",
      " dropout_10 (Dropout)        (None, 60, 60, 128)       0         \n",
      "                                                                 \n",
      " conv2d_transpose_3 (Conv2DT  (None, 120, 120, 64)     73792     \n",
      " ranspose)                                                       \n",
      "                                                                 \n",
      " conv2d_26 (Conv2D)          (None, 120, 120, 64)      36928     \n",
      "                                                                 \n",
      " conv2d_27 (Conv2D)          (None, 120, 120, 64)      36928     \n",
      "                                                                 \n",
      " conv2d_28 (Conv2D)          (None, 120, 120, 64)      36928     \n",
      "                                                                 \n",
      " batch_normalization_13 (Bat  (None, 120, 120, 64)     256       \n",
      " chNormalization)                                                \n",
      "                                                                 \n",
      " dropout_11 (Dropout)        (None, 120, 120, 64)      0         \n",
      "                                                                 \n",
      " conv2d_transpose_4 (Conv2DT  (None, 240, 240, 32)     18464     \n",
      " ranspose)                                                       \n",
      "                                                                 \n",
      " conv2d_29 (Conv2D)          (None, 240, 240, 32)      9248      \n",
      "                                                                 \n",
      " conv2d_30 (Conv2D)          (None, 240, 240, 32)      9248      \n",
      "                                                                 \n",
      " conv2d_31 (Conv2D)          (None, 240, 240, 32)      9248      \n",
      "                                                                 \n",
      " batch_normalization_14 (Bat  (None, 240, 240, 32)     128       \n",
      " chNormalization)                                                \n",
      "                                                                 \n",
      " dropout_12 (Dropout)        (None, 240, 240, 32)      0         \n",
      "                                                                 \n",
      " conv2d_transpose_5 (Conv2DT  (None, 480, 480, 16)     4624      \n",
      " ranspose)                                                       \n",
      "                                                                 \n",
      " conv2d_32 (Conv2D)          (None, 480, 480, 16)      2320      \n",
      "                                                                 \n",
      " batch_normalization_15 (Bat  (None, 480, 480, 16)     64        \n",
      " chNormalization)                                                \n",
      "                                                                 \n",
      " dropout_13 (Dropout)        (None, 480, 480, 16)      0         \n",
      "                                                                 \n",
      " conv2d_33 (Conv2D)          (None, 480, 480, 1)       17        \n",
      "                                                                 \n",
      "=================================================================\n",
      "Total params: 576,541\n",
      "Trainable params: 575,831\n",
      "Non-trainable params: 710\n",
      "_________________________________________________________________\n"
     ]
    }
   ],
   "source": [
    "from keras.models import Model\n",
    "from keras.layers import Input, Dropout\n",
    "from keras.layers.convolutional import Conv2D, Conv2DTranspose\n",
    "from keras.layers.pooling import MaxPool2D\n",
    "from tensorflow.keras.layers import BatchNormalization\n",
    "\n",
    "input = Input(shape = imgs.shape[1:])\n",
    "\n",
    "x = input\n",
    "\n",
    "x = BatchNormalization()(x)\n",
    "\n",
    "# Encoder\n",
    "\n",
    "x = Conv2D(16, 3, padding='same', activation = 'relu')(x)\n",
    "x = MaxPool2D()(x)\n",
    "\n",
    "x = BatchNormalization()(x)\n",
    "x = Dropout(0.3)(x)\n",
    "\n",
    "x = Conv2D(32, 3, padding='same', activation = 'relu')(x)\n",
    "x = Conv2D(32, 3, padding='same', activation = 'relu')(x)\n",
    "x = Conv2D(32, 3, padding='same', activation = 'relu')(x)\n",
    "x = MaxPool2D()(x)\n",
    "\n",
    "x = BatchNormalization()(x)\n",
    "x = Dropout(0.3)(x)\n",
    "\n",
    "x = Conv2D(64, 3, padding='same', activation = 'relu')(x)\n",
    "x = Conv2D(64, 3, padding='same', activation = 'relu')(x)\n",
    "x = Conv2D(64, 3, padding='same', activation = 'relu')(x)\n",
    "x = MaxPool2D()(x)\n",
    "\n",
    "x = BatchNormalization()(x)\n",
    "x = Dropout(0.3)(x)\n",
    "\n",
    "x = Conv2D(128, 3, padding='same', activation = 'relu')(x)\n",
    "x = Conv2D(128, 3, padding='same', activation = 'relu')(x)\n",
    "\n",
    "x = BatchNormalization()(x)\n",
    "x = Dropout(0.3)(x)\n",
    "\n",
    "# Decoder\n",
    "\n",
    "x = Conv2DTranspose(64, 3, strides = 2, padding='same', activation = 'relu')(x)\n",
    "x = Conv2D(64, 3, padding='same', activation = 'relu')(x)\n",
    "x = Conv2D(64, 3, padding='same', activation = 'relu')(x)\n",
    "x = Conv2D(64, 3, padding='same', activation = 'relu')(x)\n",
    "\n",
    "x = BatchNormalization()(x)\n",
    "x = Dropout(0.3)(x)\n",
    "\n",
    "x = Conv2DTranspose(32, 3, strides = 2, padding='same', activation = 'relu')(x)\n",
    "x = Conv2D(32, 3, padding='same', activation = 'relu')(x)\n",
    "x = Conv2D(32, 3, padding='same', activation = 'relu')(x)\n",
    "x = Conv2D(32, 3, padding='same', activation = 'relu')(x)\n",
    "\n",
    "x = BatchNormalization()(x)\n",
    "x = Dropout(0.3)(x)\n",
    "\n",
    "x = Conv2DTranspose(16, 3, strides = 2, padding='same', activation = 'relu')(x)\n",
    "x = Conv2D(16, 3, padding='same', activation = 'relu')(x)\n",
    "\n",
    "x = BatchNormalization()(x)\n",
    "x = Dropout(0.3)(x)\n",
    "\n",
    "output = Conv2D(1, 1, activation = 'sigmoid')(x)\n",
    "\n",
    "model = Model(inputs = input, outputs = output)\n",
    "\n",
    "model.compile(loss = 'mse', optimizer = 'adam', metrics = ['mae'])\n",
    "\n",
    "model.summary()"
   ]
  },
  {
   "cell_type": "code",
   "execution_count": 4,
   "id": "e8cccc0d-58ca-4c14-8793-1401d6dca7c3",
   "metadata": {},
   "outputs": [
    {
     "name": "stdout",
     "output_type": "stream",
     "text": [
      "Epoch 441/445\n",
      "50/50 [==============================] - 36s 704ms/step - loss: 0.1862 - mae: 0.4002\n",
      "Epoch 442/445\n",
      "50/50 [==============================] - 41s 824ms/step - loss: 0.1231 - mae: 0.3142\n",
      "Epoch 443/445\n",
      "50/50 [==============================] - 40s 801ms/step - loss: 0.0861 - mae: 0.2541\n",
      "Epoch 444/445\n",
      "50/50 [==============================] - 39s 786ms/step - loss: 0.0607 - mae: 0.2074\n",
      "Epoch 445/445\n",
      "50/50 [==============================] - 39s 780ms/step - loss: 0.0485 - mae: 0.1723\n"
     ]
    }
   ],
   "source": [
    "hist = model.fit(imgs, labels, initial_epoch = 440, epochs = 445, batch_size = 1)"
   ]
  },
  {
   "cell_type": "code",
   "execution_count": 5,
   "id": "f36fd306-da27-4b2f-8106-14bb469d6287",
   "metadata": {},
   "outputs": [
    {
     "data": {
      "image/png": "[encoded data removed]",
      "text/plain": [
       "<Figure size 432x432 with 3 Axes>"
      ]
     },
     "metadata": {
      "needs_background": "light"
     },
     "output_type": "display_data"
    }
   ],
   "source": [
    "%matplotlib inline\n",
    "import matplotlib.pyplot as plt\n",
    "\n",
    "def predict(index, s = 6.0):\n",
    "    plt.rcParams['figure.figsize'] = (s, s)\n",
    "\n",
    "    sh = imgs.shape[1:-1]\n",
    "\n",
    "    # 輪郭の検出（予測処理）\n",
    "    pred = model.predict(np.array([imgs[index]]))[0]\n",
    "    pred *= 255\n",
    "\n",
    "    plt.subplot(1, 3, 1)\n",
    "    # 入力画像の表示\n",
    "    plt.imshow(imgs[index].astype(int))\n",
    "\n",
    "    plt.subplot(1, 3, 2)\n",
    "    # 輪郭画像（ラベルデータ）の表示\n",
    "    plt.imshow(labels[index], cmap = 'gray')\n",
    "\n",
    "    plt.subplot(1, 3, 3)\n",
    "    # predict の結果表示\n",
    "    plt.imshow(pred.astype(int), cmap = 'gray')\n",
    "    \n",
    "predict(3)\n",
    "model.save('model/c1_480.h5')"
   ]
  }
 ],
 "metadata": {
  "kernelspec": {
   "display_name": "Python 3",
   "language": "python",
   "name": "python3"
  },
  "language_info": {
   "codemirror_mode": {
    "name": "ipython",
    "version": 3
   },
   "file_extension": ".py",
   "mimetype": "text/x-python",
   "name": "python",
   "nbconvert_exporter": "python",
   "pygments_lexer": "ipython3",
   "version": "3.8.8"
  }
 },
 "nbformat": 4,
 "nbformat_minor": 5
}
