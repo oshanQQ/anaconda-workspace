{
 "cells": [
  {
   "cell_type": "code",
   "execution_count": 18,
   "id": "ef50f209-e9f4-4c49-8ffc-695a2dd9a2b5",
   "metadata": {},
   "outputs": [
    {
     "data": {
      "text/plain": [
       "(300, 544, 384, 3)"
      ]
     },
     "execution_count": 18,
     "metadata": {},
     "output_type": "execute_result"
    }
   ],
   "source": [
    "import glob\n",
    "import numpy as np\n",
    "from keras.preprocessing.image import load_img, img_to_array\n",
    "\n",
    "# original_image内のファイルのパスををすべて取得する。\n",
    "files = glob.glob('original_image/*.jpg')\n",
    "\n",
    "# imgs内に元のデータを入れる\n",
    "# file path => Python Imaging Library => ndarray\n",
    "imgs = np.array([img_to_array(load_img(f, target_size=(544, 384))) for f in files])\n",
    "\n",
    "# imgs内にいくつファイルが入っているか\n",
    "imgs.shape"
   ]
  },
  {
   "cell_type": "code",
   "execution_count": 23,
   "id": "257b85b4-7278-40e7-8c72-639565a4a6ca",
   "metadata": {},
   "outputs": [
    {
     "data": {
      "text/plain": [
       "(300, 544, 384, 3)"
      ]
     },
     "execution_count": 23,
     "metadata": {},
     "output_type": "execute_result"
    }
   ],
   "source": [
    "import os\n",
    "\n",
    "th = 128\n",
    "\n",
    "lavel_files = glob.glob('lavel_image/*.png')\n",
    "\n",
    "# labels内にラベルデータを入れる\n",
    "# file path => Python Imaging Library => ndarray\n",
    "lavels = np.array([img_to_array(load_img(f, target_size=(544, 384))) for f in lavel_files])\n",
    "\n",
    "for file in lavels:\n",
    "    file[file < th] = 0\n",
    "    file[file >= th] = 1\n",
    "\n",
    "labels.shape"
   ]
  },
  {
   "cell_type": "code",
   "execution_count": null,
   "id": "36a45cc5-d2f4-4768-9ce6-d09dcd758d39",
   "metadata": {},
   "outputs": [],
   "source": []
  }
 ],
 "metadata": {
  "kernelspec": {
   "display_name": "Python 3",
   "language": "python",
   "name": "python3"
  },
  "language_info": {
   "codemirror_mode": {
    "name": "ipython",
    "version": 3
   },
   "file_extension": ".py",
   "mimetype": "text/x-python",
   "name": "python",
   "nbconvert_exporter": "python",
   "pygments_lexer": "ipython3",
   "version": "3.8.8"
  }
 },
 "nbformat": 4,
 "nbformat_minor": 5
}
