{
 "cells": [
  {
   "cell_type": "code",
   "execution_count": 4,
   "id": "63aec7aa-bc75-4eee-9fcf-fe516c631143",
   "metadata": {},
   "outputs": [],
   "source": [
    "import os\n",
    "import glob\n",
    "import cv2\n",
    "\n",
    "\n",
    "ORIGINAL_FILE_PATH = \"./original_image_pre/*\"\n",
    "\n",
    "\n",
    "# original_imageからファイル一覧を取得する\n",
    "def get_file_paths():\n",
    "    files = glob.glob(ORIGINAL_FILE_PATH)\n",
    "    return files\n",
    "\n",
    "\n",
    "# ファイルパスに対してエッジ検出を行い、output_imageに格納する。\n",
    "def generate_canny_image(file_path):\n",
    "    img_gray = cv2.imread(file_path, 0)\n",
    "    img_canny = cv2.Canny(img_gray, 100, 200)\n",
    "    img_canny = cv2.resize(img_canny, (480, 480))\n",
    "    \n",
    "    file_name = os.path.basename(file_path)\n",
    "    cv2.imwrite(\"./lavel_image_pre/{}\".format(file_name), img_canny)\n",
    "\n",
    "\n",
    "def main():\n",
    "    file_paths = get_file_paths()\n",
    "    for path in file_paths:\n",
    "        generate_canny_image(path)\n",
    "\n",
    "        \n",
    "if __name__ == '__main__':\n",
    "    main()\n"
   ]
  }
 ],
 "metadata": {
  "kernelspec": {
   "display_name": "Python 3",
   "language": "python",
   "name": "python3"
  },
  "language_info": {
   "codemirror_mode": {
    "name": "ipython",
    "version": 3
   },
   "file_extension": ".py",
   "mimetype": "text/x-python",
   "name": "python",
   "nbconvert_exporter": "python",
   "pygments_lexer": "ipython3",
   "version": "3.8.8"
  }
 },
 "nbformat": 4,
 "nbformat_minor": 5
}
